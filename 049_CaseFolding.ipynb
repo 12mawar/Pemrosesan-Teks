{
  "nbformat": 4,
  "nbformat_minor": 0,
  "metadata": {
    "colab": {
      "provenance": []
    },
    "kernelspec": {
      "name": "python3",
      "display_name": "Python 3"
    },
    "language_info": {
      "name": "python"
    }
  },
  "cells": [
    {
      "cell_type": "code",
      "execution_count": 3,
      "metadata": {
        "colab": {
          "base_uri": "https://localhost:8080/"
        },
        "id": "rPZHcbcQyfr8",
        "outputId": "47ecc36d-5591-44b3-a652-11ef56489a66"
      },
      "outputs": [
        {
          "output_type": "stream",
          "name": "stdout",
          "text": [
            "Nama kolom yang tersedia: Index(['review'], dtype='object')\n",
            "✅ Case folding selesai! File disimpan sebagai 'ulasan_bhumi_merapi_casefolded.xlsx'\n"
          ]
        }
      ],
      "source": [
        "import pandas as pd\n",
        "\n",
        "df = pd.read_excel(\"reviews_full (1).xlsx\")\n",
        "\n",
        "# 2️⃣ Tampilkan nama kolom untuk memastikan kolom ulasannya\n",
        "print(\"Nama kolom yang tersedia:\", df.columns)\n",
        "\n",
        "# 3️⃣ Misal kolom berisi teks ulasan bernama 'ulasan'\n",
        "# Lakukan case folding pada kolom tersebut\n",
        "df[\"ulasan_casefolded\"] = df[\"review\"].apply(lambda x: str(x).casefold())\n",
        "\n",
        "# 4️⃣ Simpan hasilnya ke file Excel baru\n",
        "df.to_excel(\"ulasan_bhumi_merapi_casefolded.xlsx\", index=False)\n",
        "\n",
        "print(\"✅ Case folding selesai! File disimpan sebagai 'ulasan_bhumi_merapi_casefolded.xlsx'\")"
      ]
    }
  ]
}